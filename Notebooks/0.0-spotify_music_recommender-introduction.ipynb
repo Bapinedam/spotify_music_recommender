{
 "cells": [
  {
   "cell_type": "code",
   "execution_count": 1,
   "metadata": {},
   "outputs": [],
   "source": [
    "import openai\n",
    "import json\n",
    "from dotenv import dotenv_values"
   ]
  },
  {
   "cell_type": "code",
   "execution_count": 2,
   "metadata": {},
   "outputs": [],
   "source": [
    "config = dotenv_values(\"../.env\")\n",
    "openai.api_key = config[\"OPENAI_API_KEY\"]"
   ]
  },
  {
   "cell_type": "code",
   "execution_count": 3,
   "metadata": {},
   "outputs": [
    {
     "name": "stdout",
     "output_type": "stream",
     "text": [
      "\n",
      "    [\n",
      "    {\"song\": \"Eye of the Tiger\", \"artist\": \"Survivor\"},\n",
      "    {\"song\": \"Don't Stop Believin'\", \"artist\": \"Journey\"},\n",
      "    {\"song\": \"Jump\", \"artist\": \"Van Halen\"},\n",
      "    {\"song\": \"Livin' on a Prayer\", \"artist\": \"Bon Jovi\"},\n",
      "    {\"song\": \"Thunderstruck\", \"artist\": \"AC/DC\"},\n",
      "    {\"song\": \"We Will Rock You\", \"artist\": \"Queen\"},\n",
      "    {\"song\": \"Uptown Funk\", \"artist\": \"Mark Ronson ft. Bruno Mars\"},\n",
      "    {\"song\": \"Can't Stop the Feeling!\", \"artist\": \"Justin Timberlake\"},\n",
      "    {\"song\": \"Dancing Queen\", \"artist\": \"ABBA\"},\n",
      "    {\"song\": \"Shake It Off\", \"artist\": \"Taylor Swift\"}\n",
      "    ]\n"
     ]
    }
   ],
   "source": [
    "example_json = \"\"\"\n",
    "    [\n",
    "    {\"song\": \"Fix You\", \"artist\": \"Coldplay\"},\n",
    "    {\"song\": \"Someone Like You\", \"artist\": \"Adele\"},\n",
    "    {\"song\": \"Hurt\", \"artist\": \"Johnny Cash\"},\n",
    "    {\"song\": \"Nothing Compares 2 U\", \"artist\": \"Sinead O'Connor\"},\n",
    "    {\"song\": \"Yesterday\", \"artist\": \"The Beatles\"},\n",
    "    {\"song\": \"Tears in Heaven\", \"artist\": \"Eric Clapton\"},\n",
    "    {\"song\": \"Hallelujah\", \"artist\": \"Jeff Buckley\"},\n",
    "    {\"song\": \"The Sound of Silence\", \"artist\": \"Simon & Garfunkel\"},\n",
    "    {\"song\": \"All I Want\", \"artist\": \"Kodaline\"},\n",
    "    {\"song\": \"Skinny Love\", \"artist\": \"Bon Iver\"}\n",
    "    ]\n",
    "\n",
    "\"\"\"\n",
    "\n",
    "messages = [\n",
    "    {\"role\": \"system\", \"content\": \"\"\"\n",
    "     You are a helpful playlist generating assistant. \n",
    "     You should generate a list of songs and their artist according to a text prompt.\n",
    "     You should return a JSON array, where each element follows this format: {\"song\": <song_title>, \"artist\" : <artist_of_the_song>}\n",
    "     \"\"\"},\n",
    "    {\"role\":\"user\",\"content\":\"Generate a playlist of songs based on this prompt: susuper sad songs\"},\n",
    "    {\"role\":\"assistant\", \"content\":example_json},\n",
    "    {\"role\":\"user\",\"content\":\"Generate a playlist of songs based on this prompt: high energy, exciting songs\"},\n",
    "\n",
    "]\n",
    "\n",
    "response = openai.chat.completions.create(\n",
    "    messages=messages,\n",
    "    model=\"gpt-3.5-turbo\",\n",
    "    max_tokens=400\n",
    ")\n",
    "\n",
    "print(response.choices[0].message.content)"
   ]
  },
  {
   "cell_type": "code",
   "execution_count": 20,
   "metadata": {},
   "outputs": [],
   "source": [
    "def get_playlist(prompt, num_songs = 8):\n",
    "    example_json = \"\"\"\n",
    "    [\n",
    "    {\"song\": \"Fix You\", \"artist\": \"Coldplay\"},\n",
    "    {\"song\": \"Someone Like You\", \"artist\": \"Adele\"},\n",
    "    {\"song\": \"Hurt\", \"artist\": \"Johnny Cash\"},\n",
    "    {\"song\": \"Nothing Compares 2 U\", \"artist\": \"Sinead O'Connor\"},\n",
    "    {\"song\": \"Yesterday\", \"artist\": \"The Beatles\"},\n",
    "    {\"song\": \"Tears in Heaven\", \"artist\": \"Eric Clapton\"},\n",
    "    {\"song\": \"Hallelujah\", \"artist\": \"Jeff Buckley\"},\n",
    "    {\"song\": \"The Sound of Silence\", \"artist\": \"Simon & Garfunkel\"},\n",
    "    {\"song\": \"All I Want\", \"artist\": \"Kodaline\"},\n",
    "    {\"song\": \"Skinny Love\", \"artist\": \"Bon Iver\"}\n",
    "    ]\n",
    "\n",
    "    \"\"\"\n",
    "\n",
    "    messages = [\n",
    "        {\"role\": \"system\", \"content\": \"\"\"\n",
    "        You are a helpful playlist generating assistant. \n",
    "        You should generate a list of songs and their artist according to a text prompt.\n",
    "        You should return a JSON array, where each element follows this format: {\"song\": <song_title>, \"artist\" : <artist_of_the_song>}\n",
    "        \"\"\"},\n",
    "        {\"role\":\"user\",\"content\":\"Generate a playlist of 10 songs based on this prompt: susuper sad songs\"},\n",
    "        {\"role\":\"assistant\", \"content\":example_json},\n",
    "        {\"role\":\"user\",\"content\":f\"Generate a playlist of {num_songs} songs based on this prompt: {prompt}\"},\n",
    "\n",
    "    ]\n",
    "\n",
    "    response = openai.chat.completions.create(\n",
    "        messages=messages,\n",
    "        model=\"gpt-3.5-turbo\",\n",
    "        max_tokens=400\n",
    "    )\n",
    "\n",
    "    playlist = json.loads(response.choices[0].message.content)\n",
    "    print(playlist)"
   ]
  },
  {
   "cell_type": "code",
   "execution_count": 21,
   "metadata": {},
   "outputs": [
    {
     "name": "stdout",
     "output_type": "stream",
     "text": [
      "[{'song': 'Ya Lo Supere', 'artist': 'Ariel Camacho'}, {'song': 'Mi Persona Favorita', 'artist': 'Alejandro Sanz ft. Camila Cabello'}, {'song': 'Si Te Vas', 'artist': 'Shakira'}, {'song': 'Me Duele No verte', 'artist': 'Franco de Vita'}, {'song': 'El Triste', 'artist': 'José José'}]\n"
     ]
    }
   ],
   "source": [
    "get_playlist(\"songs for a broken heart in spanish\", num_songs=5)"
   ]
  },
  {
   "cell_type": "code",
   "execution_count": null,
   "metadata": {},
   "outputs": [],
   "source": []
  }
 ],
 "metadata": {
  "kernelspec": {
   "display_name": "spotify_music_recommender",
   "language": "python",
   "name": "python3"
  },
  "language_info": {
   "codemirror_mode": {
    "name": "ipython",
    "version": 3
   },
   "file_extension": ".py",
   "mimetype": "text/x-python",
   "name": "python",
   "nbconvert_exporter": "python",
   "pygments_lexer": "ipython3",
   "version": "3.10.13"
  }
 },
 "nbformat": 4,
 "nbformat_minor": 2
}
